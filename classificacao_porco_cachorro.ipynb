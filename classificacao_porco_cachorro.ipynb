{
  "nbformat": 4,
  "nbformat_minor": 0,
  "metadata": {
    "colab": {
      "name": "Untitled0.ipynb",
      "provenance": [],
      "authorship_tag": "ABX9TyM/xVSkPaVA3M9/9SzxDMsI",
      "include_colab_link": true
    },
    "kernelspec": {
      "name": "python3",
      "display_name": "Python 3"
    },
    "language_info": {
      "name": "python"
    }
  },
  "cells": [
    {
      "cell_type": "markdown",
      "metadata": {
        "id": "view-in-github",
        "colab_type": "text"
      },
      "source": [
        "<a href=\"https://colab.research.google.com/github/alyssonpercicottyUTFPR/novo-projeto/blob/master/classificacao_porco_cachorro.ipynb\" target=\"_parent\"><img src=\"https://colab.research.google.com/assets/colab-badge.svg\" alt=\"Open In Colab\"/></a>"
      ]
    },
    {
      "cell_type": "code",
      "metadata": {
        "id": "dpExdXeolxCV"
      },
      "source": [
        "# features (1 sim, 0 não)\n",
        "#longo?\n",
        "#perna curta?\n",
        "#faz auau?\n",
        "\n",
        "#Aqui são passado alguns dados para treinar o modelo e a classificação destes dados\n",
        "\n",
        "porco1= [0,1,0]\n",
        "porco2= [0,1,1]\n",
        "porco3= [1,1,0]\n",
        "\n",
        "cachorro1= [0,1,1]\n",
        "cachorro2= [1,0,1]\n",
        "cachorro3= [1,1,1]\n",
        "\n",
        "#1=Porco, 0=Cachoro\n",
        "treino_x = [porco1, porco2, porco3, cachorro1, cachorro2, cachorro3]\n",
        "treino_y=[1,1,1,0,0,0] #labels / etiqueta"
      ],
      "execution_count": 1,
      "outputs": []
    },
    {
      "cell_type": "code",
      "metadata": {
        "colab": {
          "base_uri": "https://localhost:8080/"
        },
        "id": "uVnk8rGL_qLP",
        "outputId": "e85ab575-bd4f-4186-acae-fdfd2b43f673"
      },
      "source": [
        "from sklearn.svm import LinearSVC\n",
        "model=LinearSVC()\n",
        "model.fit(treino_x, treino_y)"
      ],
      "execution_count": 2,
      "outputs": [
        {
          "output_type": "execute_result",
          "data": {
            "text/plain": [
              "LinearSVC(C=1.0, class_weight=None, dual=True, fit_intercept=True,\n",
              "          intercept_scaling=1, loss='squared_hinge', max_iter=1000,\n",
              "          multi_class='ovr', penalty='l2', random_state=None, tol=0.0001,\n",
              "          verbose=0)"
            ]
          },
          "metadata": {
            "tags": []
          },
          "execution_count": 2
        }
      ]
    },
    {
      "cell_type": "code",
      "metadata": {
        "colab": {
          "base_uri": "https://localhost:8080/"
        },
        "id": "wPhQMsU1AZeO",
        "outputId": "15906fa7-6649-4027-cecb-3d88367092c8"
      },
      "source": [
        "#Aqui é feito um teste do modelo, passando um dados e esperando a classificação do mesmo\n",
        "\n",
        "animal_misterioso=[1,1,1]\n",
        "model.predict([animal_misterioso])"
      ],
      "execution_count": 3,
      "outputs": [
        {
          "output_type": "execute_result",
          "data": {
            "text/plain": [
              "array([0])"
            ]
          },
          "metadata": {
            "tags": []
          },
          "execution_count": 3
        }
      ]
    },
    {
      "cell_type": "code",
      "metadata": {
        "id": "P2Bzm8G_Aid8"
      },
      "source": [
        "misterio1=[1,1,1]\n",
        "misterio2=[1,1,0]\n",
        "misterio3=[0,1,1]\n",
        "\n",
        "teste_x=[misterio1, misterio2, misterio3]\n",
        "teste_y=[0,1,1]"
      ],
      "execution_count": 4,
      "outputs": []
    },
    {
      "cell_type": "code",
      "metadata": {
        "id": "MCPmTHFEBOB8"
      },
      "source": [
        "#Aqui é feito um teste do modelo, com base nos dados passados\n",
        "\n",
        "previsoes=model.predict(teste_x)"
      ],
      "execution_count": 5,
      "outputs": []
    },
    {
      "cell_type": "code",
      "metadata": {
        "colab": {
          "base_uri": "https://localhost:8080/"
        },
        "id": "ZJA1FJKMB608",
        "outputId": "b5be0f55-f911-473a-abfc-111424ffc308"
      },
      "source": [
        "#Aqui são comparados as classificações do modelo, com a classificação dos dados informados. A resposta é dada em taxa de acerto \n",
        "\n",
        "corretos=(previsoes == teste_y).sum()\n",
        "total=len(teste_x)\n",
        "taxa_de_acerto=corretos/total\n",
        "print(\"Taxa de acerto: %.2f\" % (taxa_de_acerto * 100))"
      ],
      "execution_count": 11,
      "outputs": [
        {
          "output_type": "stream",
          "text": [
            "Taxa de acerto: 66.67\n"
          ],
          "name": "stdout"
        }
      ]
    },
    {
      "cell_type": "code",
      "metadata": {
        "colab": {
          "base_uri": "https://localhost:8080/"
        },
        "id": "UTx_yxaCB760",
        "outputId": "757ad464-2335-4faf-a78c-20a8ac3b0304"
      },
      "source": [
        "from sklearn.metrics import accuracy_score\n",
        "\n",
        "taxa_de_acerto=accuracy_score(teste_y, previsoes)\n",
        "print(\"Taxa de acerto %.2f\" % (taxa_de_acerto * 100))"
      ],
      "execution_count": 9,
      "outputs": [
        {
          "output_type": "stream",
          "text": [
            "Taxa de acerto 66.67\n"
          ],
          "name": "stdout"
        }
      ]
    },
    {
      "cell_type": "code",
      "metadata": {
        "id": "9a2YcV5dDMze"
      },
      "source": [
        ""
      ],
      "execution_count": 24,
      "outputs": []
    }
  ]
}